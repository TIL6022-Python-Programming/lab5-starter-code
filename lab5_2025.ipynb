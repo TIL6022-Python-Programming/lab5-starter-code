{
 "cells": [
  {
   "cell_type": "markdown",
   "id": "da3e2dd6",
   "metadata": {},
   "source": [
    "# 1. Design approach\n",
    "\n",
    "This lab assignment is more complicated than previous ones, in that you will have to break down the problem in to steps. This Notebook template helps you with this especially in the data preparation and result variables initialization. In the last part the challenge is to recompose your input data in to a value grid that can be meaningfully visualized and is not highly noisy. A little bit of mathematics will be involved. You will have to think at two distinct levels in this assignment:\n",
    "1. <b>High perspective</b> - For example, what steps are needed, and what products (variables) do they need from earlier steps, and provide to later steps?\n",
    "2. <b>Low perspective</b> - For example, what loop or logical statement implements a step, and what is the correct Python syntax?\n",
    "\n",
    "You will have to switch back-and-forth between these perspectives. As an aid in this process, make a <b>visualization of the design approach</b>. Print the Design Approach template image from BrightSpace, or reproduce the most important boxes and elements with pen on paper. Fill the boxes and elements pertaining to this assignment. In particular think of:\n",
    "1. Goal\n",
    "2. Objective\n",
    "3. Constraints\n",
    "4. Design space - dimensions\n",
    "5. Conceptual design\n",
    "\n",
    "Make a simpler version of steps that might not produce the right results (e.g. all zero's, or using only a fraction of the data), but helps you to create the workflow. Apply consistency regarding the questions: for <b>speed difference</b> (dv), do you use columns or rows in the grid, and do you use loop variable `i` or `j`? Do the same for <b>headway</b> and do this consistently. Speed difference will be on the x-axis, headway will be on the y-axis, acceleration will determine color in the plot.\n"
   ]
  },
  {
   "cell_type": "markdown",
   "id": "ba7a5dd8",
   "metadata": {},
   "source": [
    "# 2. Algorithm\n",
    "\n",
    "Import relevant packages here."
   ]
  },
  {
   "cell_type": "code",
   "execution_count": null,
   "id": "6a8838bb",
   "metadata": {},
   "outputs": [],
   "source": [
    "import matplotlib.pyplot as plt\n",
    "import numpy as np\n"
   ]
  },
  {
   "cell_type": "markdown",
   "id": "1725519c",
   "metadata": {},
   "source": [
    "Load the data using `pandas` in to a `DataFrame` and verify it is loaded correctly.\n",
    "<ul>\n",
    "    <li>Print it (head, tail, or specific rows, choose a sensible number of rows).</li>\n",
    "    <li>Compare it to the source file.</li>\n",
    "<ul>"
   ]
  },
  {
   "cell_type": "code",
   "execution_count": null,
   "id": "aa4d5e37",
   "metadata": {},
   "outputs": [],
   "source": [
    "data = None # Do not change variable name for test"
   ]
  },
  {
   "cell_type": "markdown",
   "id": "0f6d5753",
   "metadata": {},
   "source": [
    "In the ensuing, you will use <code>numpy</code>.\n",
    "\n",
    "Let's create a grid for the values to plot. But first create <b>two arrays named <code>dv</code> and <code>s</code></b> using <code>numpy.linspace</code> that hold the grid values (ticks) at the relevant indices in their respective dimension of the grid.\n",
    "\n",
    "Create a <b>grid named <code>a</code></b> with zeros using <code>numpy.zeros</code> in to which calculated acceleration values can be stored.<br>\n",
    "<br>\n",
    "Let the grid span:<br>\n",
    "<ul>\n",
    "    <li>Speed difference <code>dv</code> [m/s]\n",
    "        <ul>\n",
    "            <li>From -10 till 10</li>\n",
    "            <li>With 41 evenly spaced values</li>\n",
    "        </ul>\n",
    "    </li>\n",
    "    <li>Headway <code>s</code> [m]\n",
    "        <ul>\n",
    "            <li>From 0 till 200</li>\n",
    "            <li>With 21 evenly spaced values</li>\n",
    "        </ul>\n",
    "    </li>\n",
    "</ul>"
   ]
  },
  {
   "cell_type": "code",
   "execution_count": null,
   "id": "2d52276f",
   "metadata": {},
   "outputs": [],
   "source": [
    "dv = None # Do not change variable name for test\n",
    "s = None # Do not change variable name for test\n",
    "a = None # Do not change variable name for test"
   ]
  },
  {
   "cell_type": "markdown",
   "id": "fedab6cf",
   "metadata": {},
   "source": [
    "Create from the imported data 3 separate <code>numpy</code> arrays for each column <code>DV</code>, <code>S</code> and <code>A</code>. (We do this for speed reasons later.)\n",
    "<ul>\n",
    "    <li>You can access the data of each column in a <code>DataFrame</code> using <code>data.xxx</code> where <code>xxx</code> is the column name (not as a string).</li>\n",
    "    <li>Use the method <code>to_numpy()</code> to convert a column to a <code>numpy</code> array.</li>\n",
    "</ul>"
   ]
  },
  {
   "cell_type": "code",
   "execution_count": null,
   "id": "1058fc26",
   "metadata": {},
   "outputs": [],
   "source": [
    "DV = None # Do not change variable name for test\n",
    "S = None # Do not change variable name for test\n",
    "A = None # Do not change variable name for test"
   ]
  },
  {
   "cell_type": "markdown",
   "id": "bbf1585a",
   "metadata": {},
   "source": [
    "Create an algorithm that calculates all the acceleration values and stores them in the grid. The algorithm is described visually in the last part of the lecture. At each grid point, it calculates a weighted mean of all measurements. The weights are given by an exponential function, based on the 'distance' between the grid point, and the measurement values of <code>DV</code> and <code>S</code>. To get you started, how many <code>for</code>-loops do you need?<br>\n",
    "<br>\n",
    "For this you will need <code>math</code>.<br>\n",
    "Use an <i>upsilon</i> of 1.5m/s and a <i>sigma</i> of 30m.<br>\n",
    "<br>\n",
    "<b>Warning:</b> This calculation may take some time. So:\n",
    "<ul>\n",
    "    <li>Print a line for each iteration of the outer-most <code>for</code>-loop that shows you the progress.</li>\n",
    "    <li>Test your code by running it only on the first 50 measurements of the data.</li>\n",
    "</ul>"
   ]
  },
  {
   "cell_type": "code",
   "execution_count": null,
   "id": "676dd33f",
   "metadata": {},
   "outputs": [],
   "source": [
    "# YOUR CODE HERE, it should fill the values inside 'a'"
   ]
  },
  {
   "cell_type": "markdown",
   "id": "52cbac3a",
   "metadata": {},
   "source": [
    "The following code will plot the data for you. Does it make sense when considering:\n",
    "<ul>\n",
    "    <li>Negative (slower than leader) and positive (faster than leader) speed differences?</li>\n",
    "    <li>Small and large headways?</li>\n",
    "</ul>"
   ]
  },
  {
   "cell_type": "code",
   "execution_count": null,
   "id": "168949b8",
   "metadata": {},
   "outputs": [],
   "source": [
    "X, Y = np.meshgrid(dv, s)\n",
    "axs = plt.axes()\n",
    "p = axs.pcolor(X, Y, a, shading='nearest')\n",
    "axs.set_title('Acceleration [m/s/s]')\n",
    "axs.set_xlabel('Speed difference [m/s]')\n",
    "axs.set_ylabel('Headway [m]')\n",
    "axs.figure.colorbar(p)\n",
    "axs.figure.set_size_inches(10, 7)\n",
    "axs.figure.set_facecolor((0.5, 0.5, 0.5))"
   ]
  }
 ],
 "metadata": {
  "kernelspec": {
   "display_name": "Python 3",
   "language": "python",
   "name": "python3"
  },
  "language_info": {
   "codemirror_mode": {
    "name": "ipython",
    "version": 3
   },
   "file_extension": ".py",
   "mimetype": "text/x-python",
   "name": "python",
   "nbconvert_exporter": "python",
   "pygments_lexer": "ipython3",
   "version": "3.13.5"
  }
 },
 "nbformat": 4,
 "nbformat_minor": 5
}
